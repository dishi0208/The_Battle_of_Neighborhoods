{
 "cells": [
  {
   "cell_type": "markdown",
   "metadata": {},
   "source": [
    "<h1>Data Section</h1>\n",
    "In order to make a good choice of a similar apartment in Manhattan NY, the following data is required: List/Information on neighbourhoods form Manhattan with their Geo data (latitude and longitude. List/Information about the subway metro stations in Manhattan with geo data. Listed apartments for rent in Manhattan area with descriptions (how many beds, price, location, address) Venues and amenities in the Manhattan neighbourhoods (e.g. top 10)\n",
    "\n",
    "<h1>Sources</h1>\n",
    "The list of Manhattan neighbourhoods is worked out during Lab exercise during the course. A csv file was created which will be read in order to create a data frame and its mapping. The csv file 'mh_neigh_data.csv' has the following below data structure. The file will be directly read to the Jupiter Notebook for convenience and space savings. The clustering of neighbourhoods and mapping will be shown however. An algorithm was used to determine the geo data. The actual algorithm coding may be shown in 'markdown' mode because it takes time to run.\n",
    "mh_neigh_data.tail():\n",
    "\n",
    "          Borough    Neighbourhood    Latitude    Longitude\n",
    "\n",
    "      35    Manhattan    Turtle Bay    40.752042    -73.967708\n",
    "\n",
    "      36    Manhattan    Tudor City    40.746917    -73.971219\n",
    "\n",
    "      37    Manhattan    Stuyvesant Town    40.731000    -73.974052\n",
    "\n",
    "      38    Manhattan    Flatiron    40.739673    -73.990947\n",
    "\n",
    "      39    Manhattan    Hudson Yards    40.756658    -74.000111\n",
    "\n",
    "A list of Manhattan subway metro stops was complied in Numbers (Apple excel) and it was complemente with Wikipedia data ( https://en.wikipedia.org/wiki/List_of_New_York_City_Subway_stations_in_Manhattan) and information from NY Transit authority and Google maps (https://www.google.com/maps/search/manhattan+subway+metro+stations/@40.7837297,-74.1033043,11z/data=!3m1!4b1) for a final consolidated list of subway stops names and their address. The geo location was obtained via an algorithm using Nominatim. Details will be shown in the execution of methodology in section 3.0. The subway csv file is ''MH_subway.csv'\" and the data structure is: mhsub.tail(): sub_station sub_address lat long\n",
    "\n",
    "  17    190 Street Subway Station    Bennett Ave, New York, NY 10040, USA    40.858113    -73.932983\n",
    "\n",
    "  18    59 St-Lexington Av Station    E 60th St, New York, NY 10065, USA        40.762259    -73.966271\n",
    "\n",
    "  19    57 Street Station    New York, NY 10019, United States                40.764250    -73.954525\n",
    "\n",
    "  20    14 Street / 8 Av    New York, NY 10014, United States                40.730862    -73.987156\n",
    "\n",
    "  21    MTA New York City    525 11th Ave, New York, NY 10018, USA            40.759809    -73.999282\n",
    "\n",
    "\n",
    "A list of places for rent was collected by web-browsing real estate companies in Manhattan : http://www.rentmanhattan.com/index.cfm?page=search&state=results https://www.nestpick.com/search?city=new-york&page=1&order=relevance&district=manhattan&gclid=CjwKCAiAjNjgBRAgEiwAGLlf2hkP3A-cPxjZYkURqQEswQK2jKQEpv_MvKcrIhRWRzNkc_r-fGi0lxoCA7cQAvD_BwE&type=apartment&display=list https://www.realtor.com/apartments/Manhattan_NY \n",
    "\n",
    "A csv file was compiled with the rental place that indicated: areas of Manhattan, address, number of beds, area and monthly rental price. The csv file \"nnnn.csv\" had the following below structure. An algorithm was used to create all the geo data using Nominatim, as shown in section 3.0. The actual algorithm coding may be shown in 'markdown' mode because it takes time to run. With the use of geolocator = Nominatim() , it was possible to determine the latitude and longitude for the subway metro locations as well as for the geodata for each rental place listed. The loop algorithms used are shown in the execution of data in section 3.0 \"Great_circle\" function from geo locator was used to calculate distances between two points, as in the case to calculate average rent price for units around each subway station and at 1.6 km radius. Foursquare is used to find the avenues at Manhattan neighbourhoods in general and a cluster is created to later be able to search for the venues depending of the location shown.\n",
    "\n",
    "How the data will be used to solve the problem\n",
    "The data will be used as follows: Use Foursquare and geopy data to map top 10 venues for all Manhattan neighbourhoods and clustered in groups ( as per Course LAB) Use foursquare and geopy data to map the location of subway metro stations , separately and on top of the above clustered map in order to be able to identify the venues and amenities near each metro station, or explore each subway location separately Use Foursquare and geopy data to map the location of rental places, in some form, linked to the subway locations. create a map that depicts, for instance, the average rental price per square ft, around a radius of 1.0 mile (1.6 km) around each subway station - or a similar metrics. I will be able to quickly point to the popups to know the relative price per subway area. Addresses from rental locations will be converted to geo data( lat, long) using Geopy-distance and Nominatim. Data will be searched in open data sources if available, from real estate sites if open to reading, libraries or other government agencies such as Metro New York MTA, etc.\n",
    "\n"
   ]
  },
  {
   "cell_type": "code",
   "execution_count": null,
   "metadata": {},
   "outputs": [],
   "source": []
  }
 ],
 "metadata": {
  "kernelspec": {
   "display_name": "Python 3",
   "language": "python",
   "name": "python3"
  },
  "language_info": {
   "codemirror_mode": {
    "name": "ipython",
    "version": 3
   },
   "file_extension": ".py",
   "mimetype": "text/x-python",
   "name": "python",
   "nbconvert_exporter": "python",
   "pygments_lexer": "ipython3",
   "version": "3.7.4"
  }
 },
 "nbformat": 4,
 "nbformat_minor": 2
}
